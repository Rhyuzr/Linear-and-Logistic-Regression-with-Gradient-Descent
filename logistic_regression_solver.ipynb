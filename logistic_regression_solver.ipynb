{
  "cells": [
    {
      "cell_type": "markdown",
      "id": "dfd9ce9d-d0ca-4aef-a4cd-619b65479036",
      "metadata": {
        "id": "dfd9ce9d-d0ca-4aef-a4cd-619b65479036"
      },
      "source": [
        "# Part 1: Implementing Logistic Regression from Scratch\n",
        "\n",
        "In this part of the lab, you will be requested to implement logistic regression from scratch. This means you will need to make use of gradient descent to find the parameters of the model.\n"
      ]
    },
    {
      "cell_type": "code",
      "execution_count": 1,
      "id": "cecb4623-29dd-4575-8416-e68b69566488",
      "metadata": {
        "id": "cecb4623-29dd-4575-8416-e68b69566488"
      },
      "outputs": [],
      "source": [
        "import numpy as np\n",
        "import matplotlib.pyplot as plt\n",
        "from sklearn.datasets import make_classification\n",
        "from sklearn.preprocessing import PolynomialFeatures\n",
        "from sklearn.model_selection import train_test_split\n",
        "from sklearn.metrics import f1_score"
      ]
    },
    {
      "cell_type": "code",
      "execution_count": 2,
      "id": "2eb94b38-e6f0-41f5-8f9e-6120eb4afe14",
      "metadata": {
        "id": "2eb94b38-e6f0-41f5-8f9e-6120eb4afe14"
      },
      "outputs": [],
      "source": [
        "def plot_loss(title, values):\n",
        "    '''\n",
        "    This function will allow us to check the evolution of the loss function during gradient descent\n",
        "    Inputs:\n",
        "    Title - title of the plot\n",
        "    Values - values to be plotted\n",
        "    '''\n",
        "    plt.figure(figsize=(3, 3))\n",
        "    plt.plot(values)\n",
        "    plt.title(title)\n",
        "    plt.ylabel('loss')\n",
        "    plt.xlabel('iteration')\n",
        "    plt.show()"
      ]
    },
    {
      "cell_type": "markdown",
      "id": "8c817b9f-6f51-438a-bb80-606770f6de4e",
      "metadata": {
        "id": "8c817b9f-6f51-438a-bb80-606770f6de4e"
      },
      "source": [
        "For this exercise, we will make use of the function [make_classification](https://scikit-learn.org/stable/modules/generated/sklearn.datasets.make_classification.html) from scikit-learn, which generates random data for an k-class classification problem. We will use k=2 to stick to a binary classification problem."
      ]
    },
    {
      "cell_type": "code",
      "execution_count": 3,
      "id": "99837ce0-d285-472c-9da9-aed7716ad5b1",
      "metadata": {
        "id": "99837ce0-d285-472c-9da9-aed7716ad5b1"
      },
      "outputs": [],
      "source": [
        "X, y = make_classification(n_features=10, n_redundant=0, n_informative=6, n_classes=2, n_clusters_per_class=1)"
      ]
    },
    {
      "cell_type": "markdown",
      "id": "0a438a60-7b45-43cf-998c-4de87091300b",
      "metadata": {
        "id": "0a438a60-7b45-43cf-998c-4de87091300b"
      },
      "source": [
        "## Question 1: make_classification\n",
        "Check the documentation of the function to determine what is the role of the following parameters:\n",
        "\n",
        "    1. n_redundant\n",
        "    2. n_informative\n",
        "    3. n_repeated\n",
        "\n",
        "Based on your findings, how many useless features does the dataset contain?"
      ]
    },
    {
      "cell_type": "markdown",
      "id": "ae7ca2f7-d034-48d2-8a88-5b7b443cb205",
      "metadata": {
        "id": "ae7ca2f7-d034-48d2-8a88-5b7b443cb205"
      },
      "source": [
        "**n_redundant:** Specifies the number of redundant features. These features are linear combinations of the informative features and do not add any new information to the dataset.\n",
        "\n",
        "**n_informative:** Specifies the number of informative features. These features carry useful information to determine the class labels.\n",
        "\n",
        "**n_repeated:** Specifies the number of repeated features, which are duplicates of informative or redundant features.\n",
        "\n",
        "____________________________________________________________________________\n",
        "\n",
        "Useless features are those that are neither informative nor redundant nor repeated. These are referred to as \"noise features.\"\n",
        "\n",
        "**Useless Features=n_features−(n_informative+n_redundant+n_repeated)**\n",
        "\n",
        "Substituting the values: Useless Features = 10 − ( 6 + 0 + 0 ) = 4\n",
        "The dataset contains 4 useless features."
      ]
    },
    {
      "cell_type": "markdown",
      "id": "2cdb75a6-1f37-43de-beab-f2e65b93d91e",
      "metadata": {
        "id": "2cdb75a6-1f37-43de-beab-f2e65b93d91e"
      },
      "source": [
        "## Exercise 1: Scaling input features\n",
        "When different input features have extremely different ranges of values, it is common to rescale them so they have comparable ranges. We standardize input values by centering them to result in a zero mean and a standard deviation of one (this transformation is sometimes called the z-score). That is, if $\\mu_j$ is the mean of the values of the j-th feature across the N samples in the input dataset, and $\\sigma_j$ is the standard deviation of the values of features j-th across the input dataset, we can replace each feature $x_i^j$ by a new feature $x^{'j}_i$ computed as follows:\n",
        "\n",
        "$$\\mu_j = \\frac{1}{N}\\sum^{N}_{i=1} x_i^j$$\n",
        "\n",
        "$$\\sigma_j = \\sqrt{\\frac{1}{N}\\sum^{N}_{i=1} x_i^j - \\mu_j)^2} $$\n",
        "\n",
        "$$x^{'j}_i = \\dfrac{x_i^j - \\mu_j}{\\sigma_j}$$"
      ]
    },
    {
      "cell_type": "markdown",
      "id": "365f0371-223d-4c26-867e-d9837c504f65",
      "metadata": {
        "id": "365f0371-223d-4c26-867e-d9837c504f65"
      },
      "source": [
        "### Task 1.1: Implement feature scaling\n",
        "Implement below the function standardize, which estimates the mean and standard deviation of each feature in the dataset and then standardizes all the input features.\n",
        "\n",
        "**Hint:** Check the documentation of the functions mean, std and divide from numpy."
      ]
    },
    {
      "cell_type": "code",
      "execution_count": 5,
      "id": "58a53e28-c3ed-4aba-a293-02054f79a86f",
      "metadata": {
        "id": "58a53e28-c3ed-4aba-a293-02054f79a86f"
      },
      "outputs": [],
      "source": [
        "def standardize(X, mean = None, stdev = None):\n",
        "    '''\n",
        "    Transforms the input data using the z-score.\n",
        "    If the mean and stdev are provided, the function only performs the transformation.\n",
        "    Otherwise, it first estimates the mean and standard deviation\n",
        "    Inputs:\n",
        "    X- Data to standardize\n",
        "    mean - vector with means of each feature (default None)\n",
        "    stdev - vector with standard deviation of each feature (default None)\n",
        "    Outputs:\n",
        "    X_stand - Standardized data\n",
        "    mean - Mean of the data\n",
        "    stdev - standard deviation of the data\n",
        "    '''\n",
        "    if mean is None:\n",
        "        mean = np.mean(X, axis=0)\n",
        "\n",
        "    if stdev is None:\n",
        "        stdev = np.std(X, axis=0)\n",
        "\n",
        "    X_stand = np.divide(X - mean, stdev)\n",
        "\n",
        "    return X_stand, mean, stdev"
      ]
    },
    {
      "cell_type": "markdown",
      "id": "8cbcfcca-b506-412f-8c72-04219eb17808",
      "metadata": {
        "id": "8cbcfcca-b506-412f-8c72-04219eb17808"
      },
      "source": [
        "## Exercise 2: Implementing and Running Logistic Regression\n",
        "### Task 2.1: Implement Logistic Regression\n",
        "Below you will see the skeleton of the Logistic Regression class. Some of its functions have already been implemented. Have a look at them and try to understand them.\n",
        "\n",
        "Afterwards, you will need to complete the following:\n",
        "\n",
        "1. **function sigmoid** - Computes the sigmoid function given an input (*see slide 15 of the Logistic Regression slide deck*)\n",
        "\n",
        "2. **function loss_function** - Estimates the cross-entropy loss given an input matrix X, a vector of labels y and the weights. Attention: In the course's slides, we estimated the loss by suming over all elements of the training set. For efficiency purposes, estimate it using matrix/vector computations. You may have a look into the linear regression lab for inspiration on how to do this\n",
        "\n",
        "3. **function gradient_descent_step** - Performs an update of the weights for logistic regression. Using matrix notation this is expressed as:\n",
        "$$ \\mathbf{w}^{(\\tau+1)} = \\mathbf{w}^{(\\tau)} + \\dfrac{\\alpha}{N}\\mathbf{X}^T\\left(\\mathbf{y}-\\sigma\\left(\\mathbf{X}\\mathbf{w}\\right)\\right)$$\n",
        "\n",
        "4. **function prediction** - Predicts new labels y_pred given an input matrix (*see slide 24 from Logistic regression slide deck*)\n"
      ]
    },
    {
      "cell_type": "code",
      "execution_count": 68,
      "id": "be9e3a5a-a678-43ee-beb5-47ed9d6bbcb1",
      "metadata": {
        "id": "be9e3a5a-a678-43ee-beb5-47ed9d6bbcb1"
      },
      "outputs": [],
      "source": [
        "class LogisticRegression:\n",
        "\n",
        "    def initialize_weights(self,X):\n",
        "        '''\n",
        "        Initializes the parameters so that the have the same dimensions as the input data + 1\n",
        "        Inputs:\n",
        "        X - input data matrix of dimensions N x D\n",
        "\n",
        "        Outputs:\n",
        "        weights - model parameters initialized to zero size (D + 1) x 1\n",
        "        '''\n",
        "        weights = np.zeros((X.shape[1]+1,1))\n",
        "\n",
        "        return weights\n",
        "\n",
        "    def initialize_X(self,X):\n",
        "        '''\n",
        "        Reshapes the input data so that it can handle w_0\n",
        "        Inputs:\n",
        "        X - input data matrix of dimensions N x D\n",
        "        Outputs:\n",
        "        X - matrix of size N x (D + 1)\n",
        "        '''\n",
        "        X = PolynomialFeatures(1).fit_transform(X) #Adds a one to the matrix so it copes with w_0\n",
        "\n",
        "        return X\n",
        "\n",
        "    def sigmoid(self,z):\n",
        "        '''\n",
        "        Implements the sigmoid function\n",
        "        Input:\n",
        "        z - input variable\n",
        "\n",
        "        Output:\n",
        "        1/(1+exp(-z))\n",
        "        '''\n",
        "        sig = 1/(1+np.exp(-z)) # YOUR CODE HERE\n",
        "        return sig\n",
        "\n",
        "    def loss_function(self,X,y,w):\n",
        "        '''\n",
        "        Implements the cross-entropy loss. See Eq 1, Slide 21 from the Logistic Regression slide deck as a reminder.\n",
        "        Note that the expression in slide 21 is not using a matrix notation.\n",
        "        Input:\n",
        "        X - Input matrix of size N x (D + 1)\n",
        "        y - Label vector of size N x 1\n",
        "        w - Parameters vector of size (D + 1) x 1\n",
        "\n",
        "        Output:\n",
        "        Estimation of the cross-entropy loss given the input, labels and parameters (scalar value)\n",
        "        '''\n",
        "\n",
        "        #1) Estimate Xw\n",
        "        z = np.dot(X,w)\n",
        "\n",
        "        #2) Estimate sigmoid of Xw\n",
        "        sig = self.sigmoid(z)\n",
        "\n",
        "        #3) estimate log(sig) and log(1-sig)\n",
        "        class_1 = np.log(sig)\n",
        "        class_2 = np.log(1-sig)\n",
        "\n",
        "        #4) Combine point 3 with the labels and sum over all elements to obtain the final estimate\n",
        "        loss = -np.sum(y*class_1 + (1-y)*class_2)\n",
        "\n",
        "        return loss\n",
        "\n",
        "    def gradient_descent_step(self,X, y, w, alpha):\n",
        "        '''\n",
        "        Implements a gradient descent step for logistic regression\n",
        "        Input:\n",
        "        X - Input matrix of size N x (D + 1)\n",
        "        y - Label vector of size N x 1\n",
        "        w - Parameters vector of size (D + 1) x 1\n",
        "        alpha - Learning rate\n",
        "        Output:\n",
        "        Updated weights\n",
        "        '''\n",
        "\n",
        "        w = w + alpha * (float(1/len(X)))*(np.dot(X.T, (y - self.sigmoid(np.dot(X,w)))))\n",
        "\n",
        "        return w\n",
        "\n",
        "    def fit(self,X,y,alpha=0.01,iter=10, epsilon = 0.0001):\n",
        "        '''\n",
        "        Learning procedure of the logistic regression model\n",
        "        Input:\n",
        "        X - Input matrix of size N x (D + 1)\n",
        "        y - Label vector of size N x 1\n",
        "        alpha - Learning rate (default value 0.01)\n",
        "        iter - Number of iterations to perform for gradient descent (default 10)\n",
        "        epsilon - stopping criterion (default 0.0001)\n",
        "        Output:\n",
        "        List of values of the loss function during the gradient descent iterations\n",
        "        '''\n",
        "        weights = self.initialize_weights(X) #Initializes the weights of the model\n",
        "        X = self.initialize_X(X) #reformats X\n",
        "\n",
        "\n",
        "        loss_list = np.zeros(iter,) # We will store the values of the loss function as gradient descent advances\n",
        "\n",
        "        for i in range(iter):\n",
        "            weights = self.gradient_descent_step(X, y, weights, alpha)\n",
        "\n",
        "            loss_list[i] = self.loss_function(X,y,weights)\n",
        "\n",
        "            if loss_list[i] <= epsilon:\n",
        "                break\n",
        "\n",
        "        self.weights = weights\n",
        "\n",
        "        return loss_list\n",
        "\n",
        "    def predict(self,X):\n",
        "        '''\n",
        "        Predicts labels y given an input matrix X\n",
        "        Input:\n",
        "        X- matrix of dimensions N x D\n",
        "\n",
        "        Output:\n",
        "        y_pred - vector of labels (dimensions N x 1)\n",
        "        '''\n",
        "        #1) Reformat the matrix X\n",
        "        X = self.initialize_X(X)\n",
        "\n",
        "        #2) Estimate Xweights\n",
        "        z = np.sum(np.dot(X, self.weights), axis=1)\n",
        "\n",
        "        #3) Use slide 24 from the slide deck to assign the labels y\n",
        "        y_pred = z > 0\n",
        "\n",
        "        return y_pred.astype(int)"
      ]
    },
    {
      "cell_type": "markdown",
      "id": "f969c8e4-be55-4570-a76e-59df331f2c49",
      "metadata": {
        "id": "f969c8e4-be55-4570-a76e-59df331f2c49"
      },
      "source": [
        "We are now ready to test your implementation of Logistic Regression. Go through the different steps below and understand what exactly is being done."
      ]
    },
    {
      "cell_type": "code",
      "execution_count": 69,
      "id": "f645736c-8790-4947-9446-ba09f871b8ed",
      "metadata": {
        "id": "f645736c-8790-4947-9446-ba09f871b8ed"
      },
      "outputs": [],
      "source": [
        "#First we split the data into two sets: training and testing (no validation set in this lab)\n",
        "X_tr, X_te, y_tr, y_te = train_test_split(X,y,test_size=0.1)\n",
        "\n",
        "# Next we standardize the training set\n",
        "X_tr, mean, std = standardize(X_tr)\n",
        "\n",
        "# The test input features are standardized using the mean and std computed on the training set\n",
        "X_te, _, _ = standardize(X_te, mean, std)\n",
        "\n",
        "#We initialize the logistic regression class\n",
        "logistic = LogisticRegression()\n",
        "\n",
        "y_tr = y_tr.reshape((len(X_tr),1))\n",
        "y_te = y_te.reshape((len(X_te),1))\n",
        "#We fit the model using a learning rate of 0.01 and 500 iterations\n",
        "values = logistic.fit(X_tr,y_tr, 0.01, 500)"
      ]
    },
    {
      "cell_type": "code",
      "execution_count": 70,
      "id": "5f98b653-f072-4507-a59c-8de4463f6126",
      "metadata": {
        "colab": {
          "base_uri": "https://localhost:8080/",
          "height": 333
        },
        "id": "5f98b653-f072-4507-a59c-8de4463f6126",
        "outputId": "8a31ad2c-5271-4df0-ee1f-ce247a66526a"
      },
      "outputs": [
        {
          "output_type": "display_data",
          "data": {
            "text/plain": [
              "<Figure size 300x300 with 1 Axes>"
            ],
            "image/png": "[encoded data removed]"
          },
          "metadata": {}
        }
      ],
      "source": [
        "plot_loss('Evolution of the loss function, alpha = 0.1, iter = 500', values)"
      ]
    },
    {
      "cell_type": "markdown",
      "id": "658dd98b-3a46-4347-bbc2-3866ef487b08",
      "metadata": {
        "id": "658dd98b-3a46-4347-bbc2-3866ef487b08"
      },
      "source": [
        "Now, we estimate labels for the training and the testing dataset. Then we will assess the performance using the [F1-score](https://scikit-learn.org/stable/modules/generated/sklearn.metrics.f1_score.html)"
      ]
    },
    {
      "cell_type": "code",
      "execution_count": 71,
      "id": "afdbd39f-b93e-4035-a0c9-2c80064abcd7",
      "metadata": {
        "colab": {
          "base_uri": "https://localhost:8080/"
        },
        "id": "afdbd39f-b93e-4035-a0c9-2c80064abcd7",
        "outputId": "0f160954-f0f4-4958-e143-b899a8cc56e2"
      },
      "outputs": [
        {
          "output_type": "stream",
          "name": "stdout",
          "text": [
            "Performance in the training set:0.7640449438202247\n",
            "\n",
            "Performance in the test set:0.6666666666666666\n",
            "\n"
          ]
        }
      ],
      "source": [
        "y_train_pred = logistic.predict(X_tr)\n",
        "y_test_pred = logistic.predict(X_te)\n",
        "\n",
        "print(f'Performance in the training set:{f1_score(y_tr, y_train_pred)}\\n')\n",
        "print(f'Performance in the test set:{f1_score(y_te, y_test_pred)}\\n')"
      ]
    },
    {
      "cell_type": "markdown",
      "id": "bedab9d2-c8f1-4f85-abc6-f8aca5db5ff2",
      "metadata": {
        "id": "bedab9d2-c8f1-4f85-abc6-f8aca5db5ff2"
      },
      "source": [
        "How does your model perform? Are you satisfied? Comment"
      ]
    },
    {
      "cell_type": "markdown",
      "id": "6af98bfd-f7fe-4396-a45b-2d6664bc1bf0",
      "metadata": {
        "id": "6af98bfd-f7fe-4396-a45b-2d6664bc1bf0"
      },
      "source": [
        "\n",
        "**Training Set F1-Score:**\n",
        "\n",
        "The F1-score of 0.76 on the training set indicates that the model performs reasonably well on the data it was trained on, balancing precision and recall.\n",
        "\n",
        "**Test Set F1-Score:**\n",
        "\n",
        "The F1-score of 0.67 on the test set suggests that the model generalizes moderately well to unseen data, but there is still some room for improvement. While it is not a poor result, the difference in F1-scores between the training and test sets (0.76 vs. 0.67) indicates that the model could be slightly overfitting, meaning it is performing better on the training data than on the test data.\n",
        "\n",
        "The model performs decently, with a reasonable balance between precision and recall, but there's some indication of overfitting as seen from the gap between training and testing performance.\n",
        "\n",
        "I am moderately satisfied with the performance and further improvements might be achieved with hyperparameter tuning (e.g., learning rate, number of iterations)."
      ]
    },
    {
      "cell_type": "markdown",
      "id": "aefabe52-1e99-4112-9ba6-cabd8f750e5b",
      "metadata": {
        "id": "aefabe52-1e99-4112-9ba6-cabd8f750e5b"
      },
      "source": [
        "### Task 2.2: Varying the learning rate and the number of iterations\n",
        "Run multiple times the fit function, using different values of the learning rate (0.001 and 0.1) and the iterations (500 and 1000). Comment on your results."
      ]
    },
    {
      "cell_type": "code",
      "execution_count": 72,
      "id": "51bd3eae-c560-41f0-abf4-c6fae389b7a1",
      "metadata": {
        "colab": {
          "base_uri": "https://localhost:8080/",
          "height": 1000
        },
        "id": "51bd3eae-c560-41f0-abf4-c6fae389b7a1",
        "outputId": "8a9e2735-f890-447b-c2b3-c7036dc8f680"
      },
      "outputs": [
        {
          "output_type": "display_data",
          "data": {
            "text/plain": [
              "<Figure size 300x300 with 1 Axes>"
            ],
            "image/png": "[encoded data removed]"
          },
          "metadata": {}
        },
        {
          "output_type": "display_data",
          "data": {
            "text/plain": [
              "<Figure size 300x300 with 1 Axes>"
            ],
            "image/png": "[encoded data removed]"
          },
          "metadata": {}
        },
        {
          "output_type": "display_data",
          "data": {
            "text/plain": [
              "<Figure size 300x300 with 1 Axes>"
            ],
            "image/png": "[encoded data removed]"
          },
          "metadata": {}
        },
        {
          "output_type": "display_data",
          "data": {
            "text/plain": [
              "<Figure size 300x300 with 1 Axes>"
            ],
            "image/png": "[encoded data removed]"
          },
          "metadata": {}
        },
        {
          "output_type": "stream",
          "name": "stdout",
          "text": [
            "Learning Rate: 0.001, Iterations: 500\n",
            "Training F1-Score: 0.7912\n",
            "Test F1-Score: 0.6667\n",
            "\n",
            "Learning Rate: 0.001, Iterations: 1000\n",
            "Training F1-Score: 0.7912\n",
            "Test F1-Score: 0.6667\n",
            "\n",
            "Learning Rate: 0.1, Iterations: 500\n",
            "Training F1-Score: 0.8222\n",
            "Test F1-Score: 0.5000\n",
            "\n",
            "Learning Rate: 0.1, Iterations: 1000\n",
            "Training F1-Score: 0.8222\n",
            "Test F1-Score: 0.5000\n",
            "\n"
          ]
        }
      ],
      "source": [
        "learning_rates = [0.001, 0.1]\n",
        "iterations = [500, 1000]\n",
        "\n",
        "# Store results for comparison\n",
        "results = {}\n",
        "\n",
        "for lr in learning_rates:\n",
        "    for iters in iterations:\n",
        "        logistic = LogisticRegression()\n",
        "        loss_values = logistic.fit(X_tr, y_tr, alpha=lr, iter=iters)\n",
        "\n",
        "        # Store the loss curve\n",
        "        results[(lr, iters)] = loss_values\n",
        "\n",
        "        # Plot the loss curve\n",
        "        plot_loss(f'Loss Curve (alpha={lr}, iterations={iters})', loss_values)\n",
        "\n",
        "# Evaluate performance on training and testing sets\n",
        "for (lr, iters), loss_values in results.items():\n",
        "    logistic = LogisticRegression()\n",
        "    logistic.fit(X_tr, y_tr, alpha=lr, iter=iters)\n",
        "    y_train_pred = logistic.predict(X_tr)\n",
        "    y_test_pred = logistic.predict(X_te)\n",
        "\n",
        "    print(f\"Learning Rate: {lr}, Iterations: {iters}\")\n",
        "    print(f\"Training F1-Score: {f1_score(y_tr, y_train_pred):.4f}\")\n",
        "    print(f\"Test F1-Score: {f1_score(y_te, y_test_pred):.4f}\\n\")\n"
      ]
    },
    {
      "cell_type": "markdown",
      "id": "3d2b6ae8-68a1-412b-9e1d-3b6bedeab090",
      "metadata": {
        "id": "3d2b6ae8-68a1-412b-9e1d-3b6bedeab090"
      },
      "source": [
        "Comment on the obtained curves. How does the behavior of the loss changes?"
      ]
    },
    {
      "cell_type": "markdown",
      "id": "a1e453c5-ee86-4cfe-9e75-34961ed39887",
      "metadata": {
        "id": "a1e453c5-ee86-4cfe-9e75-34961ed39887"
      },
      "source": [
        "**Learning Rate = 0.001, Iterations = 500:**\n",
        "\n",
        " The model performs reasonably well on the training set, but the performance drops significantly on the test set, suggesting overfitting. The model may have learned the training data too well but failed to generalize.\n",
        "\n",
        "**Learning Rate = 0.001, Iterations = 1000:**\n",
        "\n",
        "With more iterations, the model doesn't improve on the test set, which suggests that the low learning rate is not allowing the model to converge to an optimal solution within a reasonable amount of time.\n",
        "\n",
        "**Learning Rate = 0.1, Iterations = 500:**\n",
        "\n",
        "The model does better on the training set than with the lower learning rate. However, it performs poorly on the test set. This may indicate that the learning rate is too high, causing the model to converge too quickly and fail to generalize to the test data.\n",
        "\n",
        "**Learning Rate = 0.1, Iterations = 1000:**\n",
        "\n",
        " Even with more iterations, the performance on the test set remains poor, further suggesting that the high learning rate is causing issues with overfitting and poor generalization.\n",
        "\n",
        "**Behavior of Loss:**\n",
        "\n",
        "Learning Rate = 0.001: The loss likely decreases very slowly, requiring many more iterations to improve further.\n",
        "\n",
        "Learning Rate = 0.1: The loss drops quickly and stabilizes within fewer iterations, leading to rapid convergence."
      ]
    },
    {
      "cell_type": "markdown",
      "id": "554090ef-778e-4064-832b-9f0b3143b3b8",
      "metadata": {
        "id": "554090ef-778e-4064-832b-9f0b3143b3b8"
      },
      "source": [
        "## Optional Exercise: Changing the Properties of the Data (Bonus point)\n",
        "Play around with the make_classification function by varying the number of redundant, repeated and informative features. For each new dataset you generate, train the logistic regression classifier. Comment on the results you obtained. What happens when there are too many redundant and/or repeated features? Too many random ones? How does the number of informative features affect the quality of the classifier?"
      ]
    },
    {
      "cell_type": "code",
      "execution_count": 73,
      "id": "ce18b979-f4dc-45d4-b738-949a7fb29aa6",
      "metadata": {
        "colab": {
          "base_uri": "https://localhost:8080/"
        },
        "id": "ce18b979-f4dc-45d4-b738-949a7fb29aa6",
        "outputId": "7985dfbe-81b2-4497-e3b3-4393870b0266"
      },
      "outputs": [
        {
          "output_type": "stream",
          "name": "stdout",
          "text": [
            "Configuration: {'n_informative': 6, 'n_redundant': 0, 'n_repeated': 0, 'n_features': 10}\n",
            "Training F1: 0.6777, Test F1: 0.6207\n",
            "\n",
            "Configuration: {'n_informative': 4, 'n_redundant': 2, 'n_repeated': 2, 'n_features': 10}\n",
            "Training F1: 0.6885, Test F1: 0.5714\n",
            "\n",
            "Configuration: {'n_informative': 2, 'n_redundant': 4, 'n_repeated': 4, 'n_features': 10}\n",
            "Training F1: 0.1250, Test F1: 0.1818\n",
            "\n",
            "Configuration: {'n_informative': 6, 'n_redundant': 4, 'n_repeated': 0, 'n_features': 15}\n",
            "Training F1: 0.6885, Test F1: 0.5714\n",
            "\n"
          ]
        }
      ],
      "source": [
        "from sklearn.datasets import make_classification\n",
        "from sklearn.model_selection import train_test_split\n",
        "from sklearn.metrics import f1_score\n",
        "\n",
        "# Experiment configurations\n",
        "configs = [\n",
        "    {\"n_informative\": 6, \"n_redundant\": 0, \"n_repeated\": 0, \"n_features\": 10},\n",
        "    {\"n_informative\": 4, \"n_redundant\": 2, \"n_repeated\": 2, \"n_features\": 10},\n",
        "    {\"n_informative\": 2, \"n_redundant\": 4, \"n_repeated\": 4, \"n_features\": 10},\n",
        "    {\"n_informative\": 6, \"n_redundant\": 4, \"n_repeated\": 0, \"n_features\": 15},\n",
        "]\n",
        "\n",
        "results = []\n",
        "\n",
        "for config in configs:\n",
        "    print(f\"Configuration: {config}\")\n",
        "\n",
        "    # Generate dataset\n",
        "    X, y = make_classification(\n",
        "        n_features=config[\"n_features\"],\n",
        "        n_informative=config[\"n_informative\"],\n",
        "        n_redundant=config[\"n_redundant\"],\n",
        "        n_repeated=config[\"n_repeated\"],\n",
        "        n_classes=2,\n",
        "        random_state=42,\n",
        "    )\n",
        "\n",
        "    # Split and standardize data\n",
        "    X_tr, X_te, y_tr, y_te = train_test_split(X, y, test_size=0.2, random_state=42)\n",
        "    X_tr, mean, std = standardize(X_tr)\n",
        "    X_te, _, _ = standardize(X_te, mean, std)\n",
        "\n",
        "    # Train logistic regression\n",
        "    logistic = LogisticRegression()\n",
        "    logistic.fit(X_tr, y_tr, alpha=0.1, iter=500)\n",
        "\n",
        "    # Predict and compute F1-score\n",
        "    y_train_pred = logistic.predict(X_tr)\n",
        "    y_test_pred = logistic.predict(X_te)\n",
        "    train_f1 = f1_score(y_tr, y_train_pred)\n",
        "    test_f1 = f1_score(y_te, y_test_pred)\n",
        "\n",
        "    results.append((config, train_f1, test_f1))\n",
        "    print(f\"Training F1: {train_f1:.4f}, Test F1: {test_f1:.4f}\\n\")\n"
      ]
    },
    {
      "cell_type": "markdown",
      "source": [
        "**Effect of Informative Features:**\n",
        "\n",
        "Higher n_informative improves performance as the model has more meaningful data to learn from.\n",
        "Fewer informative features lead to poor generalization and lower F1-scores.\n",
        "\n",
        "**Effect of Redundant Features:**\n",
        "\n",
        "Adding too many redundant features increases the dimensionality without adding new information.\n",
        "Logistic regression remains robust initially but may become slower to converge with excessive redundancy.\n",
        "\n",
        "**Effect of Repeated Features:**\n",
        "\n",
        "Repeated features inflate the dataset without adding information, which can make training unnecessarily slower.\n",
        "Performance generally remains unaffected unless the majority of features are redundant/repeated.\n",
        "\n",
        "**Effect of Random Features (Noise):**\n",
        "\n",
        "Adding random, uninformative features significantly degrades performance.\n",
        "The model struggles to separate signal from noise, reducing F1-scores and leading to overfitting.\n",
        "\n",
        "**Key Takeaways:**\n",
        "\n",
        "Informative Features: Crucial for classification; more informative features lead to better performance.\n",
        "\n",
        "Redundant/Repeated Features: Diminish efficiency but do not drastically harm performance unless excessive.\n",
        "\n",
        "Random Features (Noise): Harmful for both training and generalization; models perform worse as noise increases."
      ],
      "metadata": {
        "id": "3f2Wja3RZ3ZU"
      },
      "id": "3f2Wja3RZ3ZU"
    }
  ],
  "metadata": {
    "kernelspec": {
      "display_name": "Python 3 (ipykernel)",
      "language": "python",
      "name": "python3"
    },
    "language_info": {
      "codemirror_mode": {
        "name": "ipython",
        "version": 3
      },
      "file_extension": ".py",
      "mimetype": "text/x-python",
      "name": "python",
      "nbconvert_exporter": "python",
      "pygments_lexer": "ipython3",
      "version": "3.9.13"
    },
    "colab": {
      "provenance": []
    }
  },
  "nbformat": 4,
  "nbformat_minor": 5
}
